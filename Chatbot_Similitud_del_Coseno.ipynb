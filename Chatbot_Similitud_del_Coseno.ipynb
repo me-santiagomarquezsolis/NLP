{
  "cells": [
    {
      "cell_type": "markdown",
      "source": [
        "# Ejemplo de Chatbot mediante la Similitud del Coseno\n",
        "\n",
        "**Articulo**: https://www.santiagomarquezsolis.com/tecnologias-para-desarrollo-de-chatbots-parte-1/ \n",
        "\n",
        "**Descripción**: Ejemplo de un chatbot que es capaz de responder a diferentes tipos de saludos mediante la técnica de la Similitud del Coseno. Más información en el artículo del blog.\n",
        "\n",
        "**Librería**: NLTK\n"
      ],
      "metadata": {
        "id": "LLJsWBjUBucS"
      }
    },
    {
      "cell_type": "markdown",
      "source": [
        "**Paso 1. Importar bibliotecas y descargar datos:**\n"
      ],
      "metadata": {
        "id": "kX7dCiaGCI0c"
      }
    },
    {
      "cell_type": "code",
      "execution_count": 2,
      "metadata": {
        "id": "BC3eXRi-Y1_G",
        "colab": {
          "base_uri": "https://localhost:8080/"
        },
        "outputId": "e1c11aa4-3838-45a7-d3b1-86ab577edce3"
      },
      "outputs": [
        {
          "output_type": "stream",
          "name": "stdout",
          "text": [
            "Looking in indexes: https://pypi.org/simple, https://us-python.pkg.dev/colab-wheels/public/simple/\n",
            "Requirement already satisfied: nltk in /usr/local/lib/python3.10/dist-packages (3.8.1)\n",
            "Requirement already satisfied: scikit-learn in /usr/local/lib/python3.10/dist-packages (1.2.2)\n",
            "Requirement already satisfied: click in /usr/local/lib/python3.10/dist-packages (from nltk) (8.1.3)\n",
            "Requirement already satisfied: tqdm in /usr/local/lib/python3.10/dist-packages (from nltk) (4.65.0)\n",
            "Requirement already satisfied: regex>=2021.8.3 in /usr/local/lib/python3.10/dist-packages (from nltk) (2022.10.31)\n",
            "Requirement already satisfied: joblib in /usr/local/lib/python3.10/dist-packages (from nltk) (1.2.0)\n",
            "Requirement already satisfied: scipy>=1.3.2 in /usr/local/lib/python3.10/dist-packages (from scikit-learn) (1.10.1)\n",
            "Requirement already satisfied: numpy>=1.17.3 in /usr/local/lib/python3.10/dist-packages (from scikit-learn) (1.22.4)\n",
            "Requirement already satisfied: threadpoolctl>=2.0.0 in /usr/local/lib/python3.10/dist-packages (from scikit-learn) (3.1.0)\n"
          ]
        },
        {
          "output_type": "stream",
          "name": "stderr",
          "text": [
            "[nltk_data] Downloading package punkt to /root/nltk_data...\n",
            "[nltk_data]   Package punkt is already up-to-date!\n",
            "[nltk_data] Downloading package wordnet to /root/nltk_data...\n",
            "[nltk_data]   Package wordnet is already up-to-date!\n",
            "[nltk_data] Downloading package stopwords to /root/nltk_data...\n",
            "[nltk_data]   Unzipping corpora/stopwords.zip.\n"
          ]
        }
      ],
      "source": [
        "!pip install nltk scikit-learn\n",
        "\n",
        "from nltk.corpus import stopwords\n",
        "import nltk\n",
        "import numpy as np\n",
        "import string\n",
        "\n",
        "from sklearn.feature_extraction.text import TfidfVectorizer\n",
        "from sklearn.metrics.pairwise import cosine_similarity\n",
        "\n",
        "nltk.download('punkt')\n",
        "nltk.download('wordnet')\n",
        "nltk.download('stopwords')\n",
        "spanish_stopwords = stopwords.words('spanish')\n",
        "\n",
        "\n"
      ]
    },
    {
      "cell_type": "markdown",
      "source": [
        "**Paso 2. Preparar los datos de preguntas y respuestas:**\n"
      ],
      "metadata": {
        "id": "9wsZ1mqxCRzu"
      }
    },
    {
      "cell_type": "code",
      "execution_count": 3,
      "metadata": {
        "id": "9t8n1T6Neh7b"
      },
      "outputs": [],
      "source": [
        "data = {\n",
        "    \"hola\": \"¡Hola! ¿En qué puedo ayudarte?\",\n",
        "    \"buenos días\": \"Buenos días. ¿En qué puedo ayudarte hoy?\",\n",
        "    \"buenas tardes\": \"Buenas tardes. ¿Cómo puedo asistirte?\",\n",
        "    \"buenas noches\": \"Buenas noches. ¿Hay algo en lo que pueda ayudarte?\",\n",
        "    \"¿qué tal?\": \"Estoy bien, gracias por preguntar. ¿En qué puedo ayudarte?\",\n",
        "    \"¿cómo estás?\": \"Estoy funcionando correctamente. ¿En qué puedo ayudarte?\",\n",
        "    \"¿cómo te va?\": \"Todo va bien. ¿Necesitas información o asistencia?\",\n",
        "    \"hola, ¿cómo estás?\": \"¡Hola! Estoy bien, gracias por preguntar. ¿En qué puedo ayudarte?\",\n",
        "}\n",
        "\n",
        "additional_data = {\n",
        "    \"hola, ¿qué tal?\": \"¡Hola! Estoy bien, gracias por preguntar. ¿En qué puedo ayudarte?\",\n",
        "    \"hey\": \"¡Hey! ¿Necesitas ayuda con algo?\",\n",
        "    \"saludos\": \"Saludos. ¿Hay algo en lo que pueda ayudarte?\",\n",
        "    \"hola, buenos días\": \"Hola, buenos días. ¿En qué puedo asistirte hoy?\",\n",
        "    \"hola, buenas tardes\": \"Hola, buenas tardes. ¿Cómo puedo ayudarte?\",\n",
        "    \"hola, buenas noches\": \"Hola, buenas noches. ¿Necesitas información o asistencia?\",\n",
        "    \"buen día\": \"Buen día. ¿En qué puedo ayudarte?\",\n",
        "    \"¿cómo te encuentras?\": \"Me encuentro funcionando correctamente. ¿En qué puedo asistirte?\",\n",
        "    \"aló\": \"¡Aló! ¿En qué puedo ayudarte hoy?\",\n",
        "    \"¿cómo va todo?\": \"Todo va bien, gracias. ¿Hay algo en lo que pueda ayudarte?\",\n",
        "}\n",
        "\n",
        "# Combina los dos diccionarios de saludos. Es un ejemplo de como puedes añadir más usando otro vector, lo dejo solo como opcionalidad\n",
        "data.update(additional_data)\n",
        "\n",
        "questions = list(data.keys())\n",
        "answers = list(data.values())\n"
      ]
    },
    {
      "cell_type": "markdown",
      "source": [
        "**Paso 3. Procesar el texto:**"
      ],
      "metadata": {
        "id": "ZrO3aG0dChI9"
      }
    },
    {
      "cell_type": "code",
      "execution_count": 4,
      "metadata": {
        "id": "f7Ayk3xxektW"
      },
      "outputs": [],
      "source": [
        "lemmer = nltk.stem.WordNetLemmatizer()\n",
        "\n",
        "def LemTokens(tokens):\n",
        "    return [lemmer.lemmatize(token) for token in tokens]\n",
        "\n",
        "remove_punct_dict = dict((ord(punct), None) for punct in string.punctuation)\n",
        "\n",
        "def LemNormalize(text):\n",
        "    return LemTokens(nltk.word_tokenize(text.lower().translate(remove_punct_dict)))\n"
      ]
    },
    {
      "cell_type": "markdown",
      "source": [
        "**Paso 4. Crear una función de respuesta para interactuar con el chatbot:**\n"
      ],
      "metadata": {
        "id": "u0PSMk2uCnxB"
      }
    },
    {
      "cell_type": "code",
      "execution_count": 5,
      "metadata": {
        "id": "C5FlfAa_emum"
      },
      "outputs": [],
      "source": [
        "def response(user_input):\n",
        "    chatbot_response = ''\n",
        "\n",
        "    TfidfVec = TfidfVectorizer(tokenizer=LemNormalize, stop_words=spanish_stopwords)\n",
        "\n",
        "    tfidf = TfidfVec.fit_transform(questions + [user_input])\n",
        "    vals = cosine_similarity(tfidf[-1], tfidf[:-1])\n",
        "    idx = vals.argsort()[0][-1]\n",
        "    similarity = vals[0][idx]\n",
        "\n",
        "    if similarity == 0:\n",
        "        chatbot_response += \"Lo siento, no entiendo tu pregunta.\"\n",
        "    else:\n",
        "        chatbot_response += answers[idx]\n",
        "\n",
        "    return chatbot_response\n",
        "\n"
      ]
    },
    {
      "cell_type": "markdown",
      "source": [
        "**Paso 5. Crear la función principal para interactuar con el chatbot:**\n"
      ],
      "metadata": {
        "id": "k-NfYFL3CvLV"
      }
    },
    {
      "cell_type": "code",
      "execution_count": 6,
      "metadata": {
        "id": "ilzJgt9yevQG"
      },
      "outputs": [],
      "source": [
        "def chatbot():\n",
        "    print(\"Chatbot: Hola, ¿en qué puedo ayudarte? Si deseas salir, escribe 'salir'.\")\n",
        "\n",
        "    while True:\n",
        "        user_input = input(\"Tú: \")\n",
        "        user_input = user_input.lower()\n",
        "        \n",
        "        if user_input == 'salir':\n",
        "            print(\"Chatbot: ¡Adiós! Que tengas un buen día.\")\n",
        "            break\n",
        "        else:\n",
        "            print(\"Chatbot: \", response(user_input))\n"
      ]
    },
    {
      "cell_type": "markdown",
      "source": [
        "**Paso 6. Iniciar el chatbot:**\n"
      ],
      "metadata": {
        "id": "ogGXlvGYCzOj"
      }
    },
    {
      "cell_type": "code",
      "execution_count": null,
      "metadata": {
        "colab": {
          "base_uri": "https://localhost:8080/"
        },
        "id": "aBp-R3sDexAE",
        "outputId": "572db5a7-6b6e-4ca8-b617-77dfd3b99c0d"
      },
      "outputs": [
        {
          "name": "stdout",
          "output_type": "stream",
          "text": [
            "Chatbot: Hola, ¿en qué puedo ayudarte? Si deseas salir, escribe 'salir'.\n",
            "Tú: que tal?\n"
          ]
        },
        {
          "output_type": "stream",
          "name": "stderr",
          "text": [
            "/usr/local/lib/python3.10/dist-packages/sklearn/feature_extraction/text.py:528: UserWarning: The parameter 'token_pattern' will not be used since 'tokenizer' is not None'\n",
            "  warnings.warn(\n"
          ]
        },
        {
          "output_type": "stream",
          "name": "stdout",
          "text": [
            "Chatbot:  Estoy bien, gracias por preguntar. ¿En qué puedo ayudarte?\n"
          ]
        }
      ],
      "source": [
        "if __name__ == \"__main__\":\n",
        "    chatbot()\n"
      ]
    }
  ],
  "metadata": {
    "colab": {
      "provenance": []
    },
    "kernelspec": {
      "display_name": "Python 3",
      "name": "python3"
    },
    "language_info": {
      "name": "python"
    }
  },
  "nbformat": 4,
  "nbformat_minor": 0
}