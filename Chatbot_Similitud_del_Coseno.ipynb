{
  "cells": [
    {
      "cell_type": "markdown",
      "source": [
        "# Ejemplo de Chatbot mediante la Similitud del Coseno\n",
        "\n",
        "**Articulo**: https://www.santiagomarquezsolis.com/tecnologias-para-desarrollo-de-chatbots-parte-1/ \n",
        "\n",
        "**Descripción**: Ejemplo de un chatbot que es capaz de responder a diferentes tipos de saludos mediante la técnica de la Similitud del Coseno. Más información en el artículo del blog.\n",
        "\n",
        "**Librería**: NLTK\n"
      ],
      "metadata": {
        "id": "LLJsWBjUBucS"
      }
    },
    {
      "cell_type": "markdown",
      "source": [
        "**Paso 1. Importar bibliotecas y descargar datos:**\n"
      ],
      "metadata": {
        "id": "kX7dCiaGCI0c"
      }
    },
    {
      "cell_type": "code",
      "execution_count": null,
      "metadata": {
        "id": "BC3eXRi-Y1_G"
      },
      "outputs": [],
      "source": [
        "!pip install nltk scikit-learn\n",
        "\n",
        "import nltk\n",
        "import numpy as np\n",
        "import string\n",
        "\n",
        "from sklearn.feature_extraction.text import TfidfVectorizer\n",
        "from sklearn.metrics.pairwise import cosine_similarity\n",
        "\n",
        "nltk.download('punkt')\n",
        "nltk.download('wordnet')\n",
        "\n",
        "\n"
      ]
    },
    {
      "cell_type": "markdown",
      "source": [
        "**Paso 2. Preparar los datos de preguntas y respuestas:**\n"
      ],
      "metadata": {
        "id": "9wsZ1mqxCRzu"
      }
    },
    {
      "cell_type": "code",
      "execution_count": null,
      "metadata": {
        "id": "9t8n1T6Neh7b"
      },
      "outputs": [],
      "source": [
        "data = {\n",
        "    \"hola\": \"¡Hola! ¿En qué puedo ayudarte?\",\n",
        "    \"buenos días\": \"Buenos días. ¿En qué puedo ayudarte hoy?\",\n",
        "    \"buenas tardes\": \"Buenas tardes. ¿Cómo puedo asistirte?\",\n",
        "    \"buenas noches\": \"Buenas noches. ¿Hay algo en lo que pueda ayudarte?\",\n",
        "    \"¿qué tal?\": \"Estoy bien, gracias por preguntar. ¿En qué puedo ayudarte?\",\n",
        "    \"¿cómo estás?\": \"Estoy funcionando correctamente. ¿En qué puedo ayudarte?\",\n",
        "    \"¿cómo te va?\": \"Todo va bien. ¿Necesitas información o asistencia?\",\n",
        "    \"hola, ¿cómo estás?\": \"¡Hola! Estoy bien, gracias por preguntar. ¿En qué puedo ayudarte?\",\n",
        "}\n",
        "\n",
        "additional_data = {\n",
        "    \"hola, ¿qué tal?\": \"¡Hola! Estoy bien, gracias por preguntar. ¿En qué puedo ayudarte?\",\n",
        "    \"hey\": \"¡Hey! ¿Necesitas ayuda con algo?\",\n",
        "    \"saludos\": \"Saludos. ¿Hay algo en lo que pueda ayudarte?\",\n",
        "    \"hola, buenos días\": \"Hola, buenos días. ¿En qué puedo asistirte hoy?\",\n",
        "    \"hola, buenas tardes\": \"Hola, buenas tardes. ¿Cómo puedo ayudarte?\",\n",
        "    \"hola, buenas noches\": \"Hola, buenas noches. ¿Necesitas información o asistencia?\",\n",
        "    \"buen día\": \"Buen día. ¿En qué puedo ayudarte?\",\n",
        "    \"¿cómo te encuentras?\": \"Me encuentro funcionando correctamente. ¿En qué puedo asistirte?\",\n",
        "    \"aló\": \"¡Aló! ¿En qué puedo ayudarte hoy?\",\n",
        "    \"¿cómo va todo?\": \"Todo va bien, gracias. ¿Hay algo en lo que pueda ayudarte?\",\n",
        "}\n",
        "\n",
        "# Combina los dos diccionarios de saludos. Es un ejemplo de como puedes añadir más usando otro vector, lo dejo solo como opcionalidad\n",
        "data.update(additional_data)\n",
        "\n",
        "questions = list(data.keys())\n",
        "answers = list(data.values())\n"
      ]
    },
    {
      "cell_type": "markdown",
      "source": [
        "**Paso 3. Procesar el texto:**"
      ],
      "metadata": {
        "id": "ZrO3aG0dChI9"
      }
    },
    {
      "cell_type": "code",
      "execution_count": null,
      "metadata": {
        "id": "f7Ayk3xxektW"
      },
      "outputs": [],
      "source": [
        "lemmer = nltk.stem.WordNetLemmatizer()\n",
        "\n",
        "def LemTokens(tokens):\n",
        "    return [lemmer.lemmatize(token) for token in tokens]\n",
        "\n",
        "remove_punct_dict = dict((ord(punct), None) for punct in string.punctuation)\n",
        "\n",
        "def LemNormalize(text):\n",
        "    return LemTokens(nltk.word_tokenize(text.lower().translate(remove_punct_dict)))\n"
      ]
    },
    {
      "cell_type": "markdown",
      "source": [
        "**Paso 4. Crear una función de respuesta para interactuar con el chatbot:**\n"
      ],
      "metadata": {
        "id": "u0PSMk2uCnxB"
      }
    },
    {
      "cell_type": "code",
      "execution_count": null,
      "metadata": {
        "id": "C5FlfAa_emum"
      },
      "outputs": [],
      "source": [
        "def response(user_input):\n",
        "    chatbot_response = ''\n",
        "\n",
        "    TfidfVec = TfidfVectorizer(tokenizer=LemNormalize, stop_words='spanish')\n",
        "    tfidf = TfidfVec.fit_transform(questions + [user_input])\n",
        "    vals = cosine_similarity(tfidf[-1], tfidf[:-1])\n",
        "    idx = vals.argsort()[0][-1]\n",
        "    similarity = vals[0][idx]\n",
        "\n",
        "    if similarity == 0:\n",
        "        chatbot_response += \"Lo siento, no entiendo tu pregunta.\"\n",
        "    else:\n",
        "        chatbot_response += answers[idx]\n",
        "\n",
        "    return chatbot_response\n",
        "\n"
      ]
    },
    {
      "cell_type": "markdown",
      "source": [
        "**Paso 5. Crear la función principal para interactuar con el chatbot:**\n"
      ],
      "metadata": {
        "id": "k-NfYFL3CvLV"
      }
    },
    {
      "cell_type": "code",
      "execution_count": null,
      "metadata": {
        "id": "ilzJgt9yevQG"
      },
      "outputs": [],
      "source": [
        "def chatbot():\n",
        "    print(\"Chatbot: Hola, ¿en qué puedo ayudarte? Si deseas salir, escribe 'salir'.\")\n",
        "\n",
        "    while True:\n",
        "        user_input = input(\"Tú: \")\n",
        "        user_input = user_input.lower()\n",
        "        \n",
        "        if user_input == 'salir':\n",
        "            print(\"Chatbot: ¡Adiós! Que tengas un buen día.\")\n",
        "            break\n",
        "        else:\n",
        "            print(\"Chatbot: \", response(user_input))\n"
      ]
    },
    {
      "cell_type": "markdown",
      "source": [
        "**Paso 6. Iniciar el chatbot:**\n"
      ],
      "metadata": {
        "id": "ogGXlvGYCzOj"
      }
    },
    {
      "cell_type": "code",
      "execution_count": null,
      "metadata": {
        "colab": {
          "background_save": true
        },
        "id": "aBp-R3sDexAE"
      },
      "outputs": [],
      "source": [
        "if __name__ == \"__main__\":\n",
        "    chatbot()\n"
      ]
    }
  ],
  "metadata": {
    "colab": {
      "provenance": []
    },
    "kernelspec": {
      "display_name": "Python 3",
      "name": "python3"
    },
    "language_info": {
      "name": "python"
    }
  },
  "nbformat": 4,
  "nbformat_minor": 0
}